{
 "cells": [
  {
   "cell_type": "code",
   "execution_count": 93,
   "metadata": {},
   "outputs": [],
   "source": [
    "import pandas as pd\n",
    "from openpyxl import Workbook\n",
    "pin = r'C:\\POWERBI'"
   ]
  },
  {
   "cell_type": "code",
   "execution_count": null,
   "metadata": {},
   "outputs": [],
   "source": [
    "df_agroatacado = pd.read_csv(pin + r'\\AgroAtacado\\Valid' + '\\\\AgroAtacadoDev.csv',sep=';',encoding='utf-8-sig')\n",
    "df_agroatacado['esteira'] = 'Agro Atacado'\n",
    "df_agroatacado = df_agroatacado.loc[df_agroatacado['GrpSegmento'].isin(['Corporate', 'Scib'])]\n",
    "df_agroatacado = df_agroatacado[['esteira','case_id', 'retrabalho_jornada', 'status_caso_fix', 'GrpSegmento', 'segmento', 'valor', 'dt_inicio', 'descricao', 'ofensor', 'Grpvalor', 'nome']]\n",
    "df_agroatacado.GrpSegmento.unique()"
   ]
  },
  {
   "cell_type": "code",
   "execution_count": null,
   "metadata": {},
   "outputs": [],
   "source": [
    "df_ativosatacado = pd.read_csv(pin + r'\\AtivosAtacado\\Valid' + '\\\\Ativos_AtacadoDev.csv',sep=';',encoding='utf-8-sig')\n",
    "df_ativosatacado['esteira'] = 'Ativos Atacado'\n",
    "df_ativosatacado = df_ativosatacado.loc[df_ativosatacado['GrpSegmento'].isin(['Corporate', 'Scib'])]\n",
    "df_ativosatacado = df_ativosatacado[['esteira','case_id', 'retrabalho_jornada', 'status_caso_fix', 'GrpSegmento', 'segmento', 'valor', 'dt_inicio', 'descricao', 'ofensor', 'Grpvalor', 'nome']]\n",
    "df_ativosatacado.GrpSegmento.unique()"
   ]
  },
  {
   "cell_type": "code",
   "execution_count": null,
   "metadata": {},
   "outputs": [],
   "source": [
    "df_tradefinance = pd.read_csv(pin + r'\\TradeFinance\\Valid' + '\\\\TradeFinanceDev.csv',sep=';',encoding='utf-8-sig')\n",
    "df_tradefinance['esteira'] = 'Trade Finance'\n",
    "df_tradefinance = df_tradefinance.loc[df_tradefinance['GrpSegmento'].isin(['Corporate', 'Scib'])]\n",
    "df_tradefinance = df_tradefinance[['esteira','case_id', 'retrabalho_jornada', 'status_caso_fix', 'GrpSegmento', 'segmento', 'valor', 'dt_inicio', 'descricao', 'ofensor', 'Grpvalor', 'nome']]\n",
    "df_tradefinance.GrpSegmento.unique()\n"
   ]
  },
  {
   "cell_type": "code",
   "execution_count": null,
   "metadata": {},
   "outputs": [],
   "source": [
    "df_tesouraria = pd.read_csv(pin + r'\\Tesouraria\\Valid' + '\\\\TesourariaDev.csv',sep=',',encoding='utf-8-sig')\n",
    "df_tesouraria['esteira'] = 'Tesouraria'\n",
    "df_tesouraria = df_tesouraria.loc[df_tesouraria['GrpSegmento'].isin(['Corporate', 'SCIB'])]\n",
    "df_tesouraria = df_tesouraria[['esteira','case_id', 'retrabalho_jornada', 'status_caso_fix', 'GrpSegmento', 'segmento', 'valor', 'dt_inicio', 'descricao', 'ofensor', 'Grpvalor', 'nome']]\n",
    "df_tesouraria.GrpSegmento.unique()"
   ]
  },
  {
   "cell_type": "code",
   "execution_count": null,
   "metadata": {},
   "outputs": [],
   "source": [
    "df = pd.concat([df_agroatacado, df_ativosatacado, df_tradefinance, df_tesouraria]) #\n",
    "\n",
    "df = df.loc[df['status_caso_fix'] == 'Concluído']\n",
    "df.status_caso_fix.unique()"
   ]
  },
  {
   "cell_type": "code",
   "execution_count": 99,
   "metadata": {},
   "outputs": [],
   "source": [
    "df['dt_inicio'] = pd.to_datetime(df['dt_inicio'])\n",
    "# Filtrar o DataFrame para manter apenas as datas de setembro de 2024\n",
    "start_date = '2024-09-01'\n",
    "end_date = '2024-10-01'\n",
    "df = df[df['dt_inicio'].between(start_date, end_date)]"
   ]
  },
  {
   "cell_type": "code",
   "execution_count": null,
   "metadata": {},
   "outputs": [],
   "source": [
    "print(df.shape)\n",
    "df = df.drop_duplicates()\n",
    "print(df.shape)"
   ]
  },
  {
   "cell_type": "code",
   "execution_count": null,
   "metadata": {},
   "outputs": [],
   "source": [
    "# Calcular total de retrabalho\n",
    "total_retrabalho = df['retrabalho_jornada'].sum()\n",
    "\n",
    "# Calcular total de jornadas\n",
    "total_jornadas = df['case_id'].nunique()\n",
    "\n",
    "# Calcular percentual de retrabalho\n",
    "df['percentual_retrabalho'] = df['retrabalho_jornada'] / total_jornadas\n",
    "\n",
    "# Agrupar por descrição e calcular a soma do percentual de retrabalho\n",
    "descricao_retrabalho = df.groupby('descricao')['percentual_retrabalho'].sum().reset_index()\n",
    "\n",
    "# Ordenar e encontrar as 3 principais descrições\n",
    "top_3_descricao = descricao_retrabalho.sort_values(by='percentual_retrabalho', ascending=False).head(3)\n",
    "\n",
    "# Exibir as 3 principais descrições\n",
    "print(top_3_descricao)"
   ]
  },
  {
   "cell_type": "code",
   "execution_count": 102,
   "metadata": {},
   "outputs": [],
   "source": [
    "df.to_excel('Pedido_Ralph_07_10_2024.xlsx', index=False)"
   ]
  }
 ],
 "metadata": {
  "kernelspec": {
   "display_name": "Python 3",
   "language": "python",
   "name": "python3"
  },
  "language_info": {
   "codemirror_mode": {
    "name": "ipython",
    "version": 3
   },
   "file_extension": ".py",
   "mimetype": "text/x-python",
   "name": "python",
   "nbconvert_exporter": "python",
   "pygments_lexer": "ipython3",
   "version": "3.11.0"
  }
 },
 "nbformat": 4,
 "nbformat_minor": 2
}
